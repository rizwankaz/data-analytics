{
 "cells": [
  {
   "cell_type": "code",
   "execution_count": 1,
   "metadata": {},
   "outputs": [
    {
     "name": "stdout",
     "output_type": "stream",
     "text": [
      "{\"nodeApiVersion\":\"0.0\",\"nodeBlockDelay\":30000000,\"nodeChains\":[\"16\",\"9\",\"0\",\"6\",\"4\",\"1\",\"2\",\"18\",\"14\",\"10\",\"3\",\"12\",\"5\",\"17\",\"11\",\"8\",\"7\",\"15\",\"13\",\"19\"],\"nodeGenesisHeights\":[[\"16\",852054],[\"9\",0],[\"0\",0],[\"6\",0],[\"4\",0],[\"1\",0],[\"2\",0],[\"18\",852054],[\"14\",852054],[\"10\",852054],[\"3\",0],[\"12\",852054],[\"5\",0],[\"17\",852054],[\"11\",852054],[\"8\",0],[\"7\",0],[\"15\",852054],[\"13\",852054],[\"19\",852054]],\"nodeGraphHistory\":[[852054,[[16,[1,17,15]],[9,[6,4,7]],[0,[10,5,15]],[6,[9,1,8]],[4,[9,14,19]],[1,[16,6,11]],[2,[12,17,7]],[18,[3,17,19]],[14,[4,15,13]],[10,[0,11,19]],[3,[18,8,13]],[12,[2,11,13]],[5,[0,8,7]],[17,[16,2,18]],[11,[1,10,12]],[8,[6,3,5]],[7,[9,2,5]],[15,[16,0,14]],[13,[14,3,12]],[19,[4,18,10]]]],[0,[[9,[4,5,8]],[0,[2,3,5]],[6,[1,5,7]],[4,[9,1,2]],[1,[6,4,3]],[2,[0,4,7]],[3,[0,1,8]],[5,[9,0,6]],[8,[9,3,7]],[7,[6,2,8]]]]],\"nodeHistoricalChains\":[[852054,[[16,[1,17,15]],[9,[6,4,7]],[0,[10,5,15]],[6,[9,1,8]],[4,[9,14,19]],[1,[16,6,11]],[2,[12,17,7]],[18,[3,17,19]],[14,[4,15,13]],[10,[0,11,19]],[3,[18,8,13]],[12,[2,11,13]],[5,[0,8,7]],[17,[16,2,18]],[11,[1,10,12]],[8,[6,3,5]],[7,[9,2,5]],[15,[16,0,14]],[13,[14,3,12]],[19,[4,18,10]]]],[0,[[9,[4,5,8]],[0,[2,3,5]],[6,[1,5,7]],[4,[9,1,2]],[1,[6,4,3]],[2,[0,4,7]],[3,[0,1,8]],[5,[9,0,6]],[8,[9,3,7]],[7,[6,2,8]]]]],\"nodeLatestBehaviorHeight\":5785924,\"nodeNumberOfChains\":20,\"nodePackageVersion\":\"2.29\",\"nodeServiceDate\":\"2025-07-23T00:00:00Z\",\"nodeVersion\":\"mainnet01\"}\n"
     ]
    }
   ],
   "source": [
    "import requests\n",
    "\n",
    "url = 'https://kadena-mainnet.gateway.tatum.io/info'\n",
    "headers = {\n",
    "  'accept': 'application/json',\n",
    "  'content-type': 'application/json',\n",
    "  'x-api-key': 't-67ad642f5d7459d823586865-1c8552fa1af843f1a00681e0'\n",
    "}\n",
    "\n",
    "response = requests.get(url, headers=headers)\n",
    "print(response.text)"
   ]
  },
  {
   "cell_type": "code",
   "execution_count": null,
   "metadata": {},
   "outputs": [],
   "source": []
  }
 ],
 "metadata": {
  "kernelspec": {
   "display_name": "Python 3",
   "language": "python",
   "name": "python3"
  },
  "language_info": {
   "codemirror_mode": {
    "name": "ipython",
    "version": 3
   },
   "file_extension": ".py",
   "mimetype": "text/x-python",
   "name": "python",
   "nbconvert_exporter": "python",
   "pygments_lexer": "ipython3",
   "version": "3.11.2"
  }
 },
 "nbformat": 4,
 "nbformat_minor": 2
}
